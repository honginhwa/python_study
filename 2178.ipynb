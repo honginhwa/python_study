{
  "nbformat": 4,
  "nbformat_minor": 0,
  "metadata": {
    "colab": {
      "name": "2178.ipynb",
      "provenance": [],
      "collapsed_sections": [],
      "authorship_tag": "ABX9TyOGOSJViYk8l5NxhhlzhLzp",
      "include_colab_link": true
    },
    "kernelspec": {
      "name": "python3",
      "display_name": "Python 3"
    }
  },
  "cells": [
    {
      "cell_type": "markdown",
      "metadata": {
        "id": "view-in-github",
        "colab_type": "text"
      },
      "source": [
        "<a href=\"https://colab.research.google.com/github/honginhwa/python_study/blob/master/2178.ipynb\" target=\"_parent\"><img src=\"https://colab.research.google.com/assets/colab-badge.svg\" alt=\"Open In Colab\"/></a>"
      ]
    },
    {
      "cell_type": "markdown",
      "metadata": {
        "id": "2CYWBAmU6z1r",
        "colab_type": "text"
      },
      "source": [
        "\n",
        "\n",
        "# 1260, 2606, 2667, 1012, 2178"
      ]
    },
    {
      "cell_type": "code",
      "metadata": {
        "id": "VKK-02hB6pG0",
        "colab_type": "code",
        "colab": {}
      },
      "source": [
        "# BFS \n",
        "# 최단 경로를구할때 목적지를 찾자마다 최단경로임이 보장되어 탐색을 종료할수있는 장점이 있다.\n"
      ],
      "execution_count": null,
      "outputs": []
    },
    {
      "cell_type": "code",
      "metadata": {
        "id": "ATttxImRO560",
        "colab_type": "code",
        "colab": {
          "base_uri": "https://localhost:8080/",
          "height": 107
        },
        "outputId": "8672dd39-a721-4656-e0da-69feb4a28945"
      },
      "source": [
        "from collections import deque\n",
        "\n",
        "dx = [0, 0, 1, -1]\n",
        "dy = [1, -1, 0, 0]\n",
        "\n",
        "# dx[0],dy[0] = 오른쪽\n",
        "# dx[1],dy[1] = 왼쪽\n",
        "# dx[2],dy[2] = 위\n",
        "# dx[3],dy[3] = 아래 \n",
        "\n",
        "n,m = map(int,input().split())\n",
        "a = [list(map(int,list(input()))) for _ in range(n)]\n",
        "q = deque()\n",
        "check = [[False]* m for _ in range(n)]\n",
        "dist = [[0]*m for _ in range(n)]\n",
        "\n",
        "\n",
        "\n",
        "# 시작점 \n",
        "q.append((0,0))\n",
        "check[0][0] = True\n",
        "dist[0][0] = 1\n",
        "\n",
        "while q:\n",
        "  x,y = q.popleft()\n",
        "  for k in range(4):\n",
        "    nx, ny = x+dx[k], y+dy[k] # 다음방향 \n",
        "    if 0 <= nx < n and  0 <= ny < m: # nm은 총 크기\n",
        "      if check[nx][ny] == False and a[nx][ny] == 1:\n",
        "        q.append((nx,ny))\n",
        "        dist[nx][ny] = dist[x][y] +1\n",
        "        check[nx][ny] = True\n",
        "\n",
        "print(dist[n-1][m-1])\n",
        "\n",
        "\n"
      ],
      "execution_count": 10,
      "outputs": [
        {
          "output_type": "stream",
          "text": [
            "3 4\n",
            "1011\n",
            "1111\n",
            "0011\n",
            "6\n"
          ],
          "name": "stdout"
        }
      ]
    }
  ]
}