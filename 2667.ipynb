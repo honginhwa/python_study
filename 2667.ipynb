{
  "nbformat": 4,
  "nbformat_minor": 0,
  "metadata": {
    "colab": {
      "name": "2667.ipynb",
      "provenance": [],
      "collapsed_sections": [],
      "authorship_tag": "ABX9TyNbX2aPpfoGSRWnZE0azWNO",
      "include_colab_link": true
    },
    "kernelspec": {
      "name": "python3",
      "display_name": "Python 3"
    }
  },
  "cells": [
    {
      "cell_type": "markdown",
      "metadata": {
        "id": "view-in-github",
        "colab_type": "text"
      },
      "source": [
        "<a href=\"https://colab.research.google.com/github/honginhwa/python_study/blob/master/2667.ipynb\" target=\"_parent\"><img src=\"https://colab.research.google.com/assets/colab-badge.svg\" alt=\"Open In Colab\"/></a>"
      ]
    },
    {
      "cell_type": "code",
      "metadata": {
        "id": "IaGusdEPSYGe",
        "colab_type": "code",
        "colab": {}
      },
      "source": [
        "from sys import stdin\n",
        "n = int(input())\n",
        "# 데이터 저장용 공간 matrix\n",
        "matrix = [[0]*n for _ in range(n)]\n",
        "# 방문 내역 저장용 visited\n",
        "visited = [[0]*n for _ in range(n)]\n",
        "\n",
        "# matrix에 아파트 유무 0과 1 저장\n",
        "for i in range(n):\n",
        "    line = stdin.readline().strip()\n",
        "    for j, b in enumerate(line):\n",
        "        matrix[i][j] = int(b)\n",
        "\n",
        "# 방향 확인용 좌표 dx와 dy\n",
        "# 중앙을 기준으로 좌/우/위/아래\n",
        "dx = [-1, 1, 0, 0]\n",
        "dy = [0, 0, 1, -1]\n",
        "\n",
        "# DFS 함수 정의\n",
        "def dfs(x, y, c):\n",
        "    visited[x][y] = 1   # 방문 여부 표시\n",
        "    global nums            # 아파트 단지 수를 세기위한 변수\n",
        "    # 아파트가 있으면 숫자를 세어줍니다.\n",
        "    if matrix[x][y] == 1:\n",
        "        #matrix[x][y] = c # 아파트 단지별 숫자 표시용\n",
        "        nums += 1\n",
        "    # 해당 위치에서 좌/우/위/아래 방향의 좌표를 확인해서 dfs 적용\n",
        "    for i in range(4):\n",
        "        nx = x + dx[i]\n",
        "        ny = y + dy[i]\n",
        "        if 0 <= nx < n and 0 <= ny < n:\n",
        "            if visited[nx][ny] == 0 and matrix[nx][ny] == 1:\n",
        "                dfs(nx,ny, c)\n",
        "\n",
        "cnt = 1 # 아파트 단지 세기 위한\n",
        "numlist = [] # 아파트 단지별 숫자\n",
        "nums=0 # 아파트 수\n",
        "for a in range(n):\n",
        "    for b in range(n):\n",
        "        if matrix[a][b] == 1 and visited[a][b] == 0:\n",
        "            dfs(a,b,cnt)\n",
        "            numlist.append(nums)\n",
        "            nums = 0\n",
        "#            cnt += 1 # 아파트 단지 별 표시용\n",
        "\n",
        "print(len(numlist))\n",
        "for n in sorted(numlist):\n",
        "    print(n)"
      ],
      "execution_count": null,
      "outputs": []
    },
    {
      "cell_type": "code",
      "metadata": {
        "id": "M2HGaSAeAIEP",
        "colab_type": "code",
        "colab": {
          "base_uri": "https://localhost:8080/",
          "height": 316
        },
        "outputId": "fc6a4715-3f62-421f-ad40-6d22643c2e9a"
      },
      "source": [
        "from collections import deque\n",
        "\n",
        "dx = [1,-1,0,0]\n",
        "dy = [ 0, 0, 1,-1]\n",
        "\n",
        "n,m = map(int,input().split())\n",
        "a = [list(map(int,list(input()))) for _ in range(n)]\n",
        "#print(a)\n",
        "\n",
        "visit = [[0]*m for _ in range(n)]\n",
        "check = [[False]*m for _ in range(n)]\n",
        "cnt = 0\n",
        "\n",
        "check[0][0] = True\n",
        "\n",
        "q = deque()\n",
        "q.append((0,0))\n",
        "\n",
        "\n",
        "def dfs(x,y):\n",
        "  while q:\n",
        "    x,y = q.popleft() \n",
        "      del queue[0]\n",
        "      for i in range(4):\n",
        "        q = x + dx[i]\n",
        "        w = y + dy[i]\n",
        "        if 0 <= nx < n and  0 <= ny < m: \n",
        "          if check[nx][ny] == False and a[nx][ny] == 1:\n",
        "            q.append((q,w))\n",
        "            check[q][w] = True\n",
        "            cnt += 1\n",
        "            \n",
        "\n",
        "\n",
        "\n",
        "fo"
      ],
      "execution_count": null,
      "outputs": [
        {
          "output_type": "stream",
          "text": [
            "2 2\n",
            "11\n",
            "11\n",
            "[[1, 1], [1, 1]]\n"
          ],
          "name": "stdout"
        },
        {
          "output_type": "error",
          "ename": "NameError",
          "evalue": "ignored",
          "traceback": [
            "\u001b[0;31m---------------------------------------------------------------------------\u001b[0m",
            "\u001b[0;31mNameError\u001b[0m                                 Traceback (most recent call last)",
            "\u001b[0;32m<ipython-input-4-7ab1c1bd4eb9>\u001b[0m in \u001b[0;36m<module>\u001b[0;34m()\u001b[0m\n\u001b[1;32m      2\u001b[0m \u001b[0ma\u001b[0m \u001b[0;34m=\u001b[0m \u001b[0;34m[\u001b[0m\u001b[0mlist\u001b[0m\u001b[0;34m(\u001b[0m\u001b[0mmap\u001b[0m\u001b[0;34m(\u001b[0m\u001b[0mint\u001b[0m\u001b[0;34m,\u001b[0m\u001b[0mlist\u001b[0m\u001b[0;34m(\u001b[0m\u001b[0minput\u001b[0m\u001b[0;34m(\u001b[0m\u001b[0;34m)\u001b[0m\u001b[0;34m)\u001b[0m\u001b[0;34m)\u001b[0m\u001b[0;34m)\u001b[0m \u001b[0;32mfor\u001b[0m \u001b[0m_\u001b[0m \u001b[0;32min\u001b[0m \u001b[0mrange\u001b[0m\u001b[0;34m(\u001b[0m\u001b[0mn\u001b[0m\u001b[0;34m)\u001b[0m\u001b[0;34m]\u001b[0m\u001b[0;34m\u001b[0m\u001b[0;34m\u001b[0m\u001b[0m\n\u001b[1;32m      3\u001b[0m \u001b[0mprint\u001b[0m\u001b[0;34m(\u001b[0m\u001b[0ma\u001b[0m\u001b[0;34m)\u001b[0m\u001b[0;34m\u001b[0m\u001b[0;34m\u001b[0m\u001b[0m\n\u001b[0;32m----> 4\u001b[0;31m \u001b[0mq\u001b[0m \u001b[0;34m=\u001b[0m \u001b[0mdeque\u001b[0m\u001b[0;34m(\u001b[0m\u001b[0;34m)\u001b[0m\u001b[0;34m\u001b[0m\u001b[0;34m\u001b[0m\u001b[0m\n\u001b[0m\u001b[1;32m      5\u001b[0m \u001b[0mvisit\u001b[0m \u001b[0;34m=\u001b[0m \u001b[0;34m[\u001b[0m\u001b[0;34m[\u001b[0m\u001b[0;36m0\u001b[0m\u001b[0;34m]\u001b[0m\u001b[0;34m*\u001b[0m\u001b[0mm\u001b[0m \u001b[0;32mfor\u001b[0m \u001b[0m_\u001b[0m \u001b[0;32min\u001b[0m \u001b[0mrange\u001b[0m\u001b[0;34m(\u001b[0m\u001b[0mn\u001b[0m\u001b[0;34m)\u001b[0m\u001b[0;34m]\u001b[0m\u001b[0;34m\u001b[0m\u001b[0;34m\u001b[0m\u001b[0m\n\u001b[1;32m      6\u001b[0m \u001b[0mprint\u001b[0m\u001b[0;34m(\u001b[0m\u001b[0mvisit\u001b[0m\u001b[0;34m)\u001b[0m\u001b[0;34m\u001b[0m\u001b[0;34m\u001b[0m\u001b[0m\n",
            "\u001b[0;31mNameError\u001b[0m: name 'deque' is not defined"
          ]
        }
      ]
    }
  ]
}