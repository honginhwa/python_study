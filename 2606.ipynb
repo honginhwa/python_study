{
  "nbformat": 4,
  "nbformat_minor": 0,
  "metadata": {
    "colab": {
      "name": "2606.ipynb",
      "provenance": [],
      "collapsed_sections": [],
      "authorship_tag": "ABX9TyPsthDwogRiTgGtc/1ITyFV",
      "include_colab_link": true
    },
    "kernelspec": {
      "name": "python3",
      "display_name": "Python 3"
    }
  },
  "cells": [
    {
      "cell_type": "markdown",
      "metadata": {
        "id": "view-in-github",
        "colab_type": "text"
      },
      "source": [
        "<a href=\"https://colab.research.google.com/github/honginhwa/python_study/blob/master/2606.ipynb\" target=\"_parent\"><img src=\"https://colab.research.google.com/assets/colab-badge.svg\" alt=\"Open In Colab\"/></a>"
      ]
    },
    {
      "cell_type": "markdown",
      "metadata": {
        "id": "swSbs9LPoYGc",
        "colab_type": "text"
      },
      "source": [
        "# dfs"
      ]
    },
    {
      "cell_type": "code",
      "metadata": {
        "id": "YXrguZrEoT-A",
        "colab_type": "code",
        "colab": {
          "base_uri": "https://localhost:8080/",
          "height": 125
        },
        "outputId": "7358e88e-64ee-43d8-8fcc-2b7428c0ef5a"
      },
      "source": [
        "n = int(input())\n",
        "t = int(input())\n",
        "s = [[0] * n for i in range(n)]\n",
        "visit = [0 for i in range(n)]\n",
        "for i in range(t):\n",
        "    a, b = map(int, input().split())\n",
        "    s[a - 1][b - 1] = 1\n",
        "    s[b - 1][a - 1] = 1\n",
        "def dfs(v):\n",
        "    visit[v] = 1\n",
        "    for i in range(n):\n",
        "        if s[v][i] == 1 and visit[i] == 0:\n",
        "            dfs(i)\n",
        "dfs(0)\n",
        "cnt = 0\n",
        "for i in range(1, n):\n",
        "    if visit[i] == 1:\n",
        "        cnt += 1\n",
        "print(cnt)"
      ],
      "execution_count": null,
      "outputs": [
        {
          "output_type": "stream",
          "text": [
            "5\n",
            "3\n",
            "1 3\n",
            "1 2\n",
            "2 3\n",
            "2\n"
          ],
          "name": "stdout"
        }
      ]
    }
  ]
}