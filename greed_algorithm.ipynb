{
  "nbformat": 4,
  "nbformat_minor": 0,
  "metadata": {
    "colab": {
      "name": "greed_algorithm.ipynb",
      "provenance": [],
      "collapsed_sections": [],
      "authorship_tag": "ABX9TyP141Fq2nlLinKxU7eJu9Bh",
      "include_colab_link": true
    },
    "kernelspec": {
      "name": "python3",
      "display_name": "Python 3"
    }
  },
  "cells": [
    {
      "cell_type": "markdown",
      "metadata": {
        "id": "view-in-github",
        "colab_type": "text"
      },
      "source": [
        "<a href=\"https://colab.research.google.com/github/honginhwa/python_study/blob/master/greed_algorithm.ipynb\" target=\"_parent\"><img src=\"https://colab.research.google.com/assets/colab-badge.svg\" alt=\"Open In Colab\"/></a>"
      ]
    },
    {
      "cell_type": "markdown",
      "metadata": {
        "id": "q_dGy64VT4ga"
      },
      "source": [
        "# 그리드 알고리즘 \r\n",
        "\r\n",
        "일반적인 상황에서 그리디 알고리즘은 최적의 해를 얻을 수 있는 상황을 추론하여 생각하여야한다.\r\n"
      ]
    },
    {
      "cell_type": "markdown",
      "metadata": {
        "id": "O6swIfUgUWxH"
      },
      "source": [
        "## 1. 당신은 카운터에서 거스름돈으로 사용할 500원,100원, 50원, 10원짜리 동전이 무한히 존재한다고 가정합니다. 손님에게 거슬러 주어야 할 돈이 N원일떄 거슬러 주어야 할 동전의 최소 갯수를 구하시오\r\n"
      ]
    },
    {
      "cell_type": "code",
      "metadata": {
        "id": "zCt6H4WSTukn"
      },
      "source": [
        "# 최적의 해를 빠르게 구하기 위해서는 가장 큰 화폐 단위부터 돈을 거슬러 주면 됩니다.\r\n",
        "\r\n",
        "# ex) 1260\r\n",
        "\r\n",
        "# 500 = 2 , 100 = 2, 50 = 1 , 10 = 1"
      ],
      "execution_count": null,
      "outputs": []
    },
    {
      "cell_type": "markdown",
      "metadata": {
        "id": "YguNWXtgVED1"
      },
      "source": [
        "- 가장 큰 화폐단위부터 돈을 거슬러 주는 것이 최적의 해를 보장한다. \r\n",
        "\r\n"
      ]
    },
    {
      "cell_type": "code",
      "metadata": {
        "colab": {
          "base_uri": "https://localhost:8080/"
        },
        "id": "xLcMr4k5VJRk",
        "outputId": "d9418eb5-f75d-4e39-96f7-b116ce0f8028"
      },
      "source": [
        "cash = int(input())\r\n",
        "amount = []\r\n",
        "\r\n",
        "array = [500, 100, 50, 10]\r\n",
        "\r\n",
        "for i,num in enumerate(array):\r\n",
        "  tmp = cash // num\r\n",
        "  print(\"tmp = \", tmp)\r\n",
        "  amount.append(tmp)\r\n",
        "  cash = cash - num*tmp\r\n",
        "  print(cash)\r\n",
        "print(amount)"
      ],
      "execution_count": null,
      "outputs": [
        {
          "output_type": "stream",
          "text": [
            "900\n",
            "tmp =  1\n",
            "400\n",
            "tmp =  4\n",
            "0\n",
            "tmp =  0\n",
            "0\n",
            "tmp =  0\n",
            "0\n",
            "[1, 4, 0, 0]\n"
          ],
          "name": "stdout"
        }
      ]
    },
    {
      "cell_type": "markdown",
      "metadata": {
        "id": "fLFO-mnndMFT"
      },
      "source": [
        "## 2. 어떠한 수 N이 1이 될때까지 다음의 두 과정 중 하나를 반복적으로 선택하여 수행하려고 합니다. 단, 두 번째 연산은 N이 K로 나누어 떨어질때만 선택할 수 있습니다.\r\n",
        "\r\n",
        "- 1. N에서 1을 뺍니다\r\n",
        "- 2. N을 K로 나눕니다\r\n",
        "\r\n",
        "N과 K가 주어질 떄 N이 1이 될때까지 1번 혹은 2번의 과정을 수행해야 하는 최소 횟수를 구하는 프로그램을 작성하시오\r\n"
      ]
    },
    {
      "cell_type": "code",
      "metadata": {
        "id": "TxfKwVThVbFM",
        "colab": {
          "base_uri": "https://localhost:8080/"
        },
        "outputId": "13ad1353-58cc-40ee-9fc3-a7c0af0bf121"
      },
      "source": [
        "# n,k = map(int,input(),split())\r\n",
        "\r\n",
        "N = int(input(\"N = \"))\r\n",
        "K = int(input(\"K = \"))\r\n",
        "slice_num = 0\r\n",
        "while True:\r\n",
        "  if N%K == 0:\r\n",
        "    N = N/K\r\n",
        "    slice_num +=1\r\n",
        "  else:\r\n",
        "    N = N - 1\r\n",
        "  if N == 1:\r\n",
        "    break\r\n",
        "print(slice_num)\r\n",
        "   "
      ],
      "execution_count": null,
      "outputs": [
        {
          "output_type": "stream",
          "text": [
            "N = 24\n",
            "K = 3\n",
            "2\n"
          ],
          "name": "stdout"
        }
      ]
    },
    {
      "cell_type": "markdown",
      "metadata": {
        "id": "2Qou6zrshII6"
      },
      "source": [
        "각 자리가 숫자(0부터 9)로만 이루어진 문자열 S가 주어젔을떄, 왼쪽부터 오른쪽으로 하나씩 모든 숫자를 확인하며 숫자 사이에 'x' 혹은 '+'연산자를 넣어 결과적으로 만들어 질 수 있는 가장 큰 수를 구하는 프로그램을 작성하세요 단, +보다 x를 먼저 계산하는 일반적인 방식과는 달리 모든 연산은 왼쪽부터 순서대로 이루어 진다고 가정합니다\r\n",
        "\r\n",
        "- ex) 02984 라는 문자열로 만들수 있는 가장 큰수는 ((((0+2)x9)x8)x4) = 572입니다\r\n"
      ]
    },
    {
      "cell_type": "code",
      "metadata": {
        "colab": {
          "base_uri": "https://localhost:8080/"
        },
        "id": "6IggWpXYhHNr",
        "outputId": "3f36a394-a3ab-443c-f270-32fb09c0e33a"
      },
      "source": [
        "data = input()\r\n",
        "\r\n",
        "result = int(data[0])\r\n",
        "for i in range(1,len(data)):\r\n",
        "  num = int(data[i])\r\n",
        "  if num <=1 or result <=1:\r\n",
        "    result += num\r\n",
        "  else:\r\n",
        "    result*= num\r\n",
        "\r\n",
        "print(result)"
      ],
      "execution_count": null,
      "outputs": [
        {
          "output_type": "stream",
          "text": [
            "12345\n",
            "180\n"
          ],
          "name": "stdout"
        }
      ]
    },
    {
      "cell_type": "markdown",
      "metadata": {
        "id": "RD5R2iPkTqhn"
      },
      "source": [
        "## 구현(Implementation)\r\n",
        "\r\n",
        "구현이란, 머릿속에 있는 알고리즘을 소스코드로 바꾸는 과정입니다.\r\n",
        "\r\n",
        "- problem, thinking, solution\r\n",
        "- 풀이를 떠올리는 것은 쉽지만, 소스코드로 옮기기 어려운 문제를 지칭합니다.\r\n",
        "\r\n",
        "일반적으로 알고리즘 문제에서의 2차원 공간은 행렬의 의미로 사용됩니다\r\n",
        "\r\n",
        "\r\n"
      ]
    },
    {
      "cell_type": "code",
      "metadata": {
        "colab": {
          "base_uri": "https://localhost:8080/"
        },
        "id": "3wijKi7ETq2f",
        "outputId": "65f084d1-d7dd-4e39-d84a-b07349e39fc6"
      },
      "source": [
        "for i in range(5):\r\n",
        "  for j in range(5):\r\n",
        "    print('(',i,',',j,')', end=' ')\r\n",
        "  print()"
      ],
      "execution_count": null,
      "outputs": [
        {
          "output_type": "stream",
          "text": [
            "( 0 , 0 ) ( 0 , 1 ) ( 0 , 2 ) ( 0 , 3 ) ( 0 , 4 ) \n",
            "( 1 , 0 ) ( 1 , 1 ) ( 1 , 2 ) ( 1 , 3 ) ( 1 , 4 ) \n",
            "( 2 , 0 ) ( 2 , 1 ) ( 2 , 2 ) ( 2 , 3 ) ( 2 , 4 ) \n",
            "( 3 , 0 ) ( 3 , 1 ) ( 3 , 2 ) ( 3 , 3 ) ( 3 , 4 ) \n",
            "( 4 , 0 ) ( 4 , 1 ) ( 4 , 2 ) ( 4 , 3 ) ( 4 , 4 ) \n"
          ],
          "name": "stdout"
        }
      ]
    },
    {
      "cell_type": "markdown",
      "metadata": {
        "id": "CHZ49Nw_chh5"
      },
      "source": [
        "### 시물레이션 및 완전 탐색 문제에서는 2차원 공간에서의 \"**방향 벡터**\"가 자주 화룡됩니다."
      ]
    },
    {
      "cell_type": "code",
      "metadata": {
        "colab": {
          "base_uri": "https://localhost:8080/"
        },
        "id": "YzcyFrxZVyqS",
        "outputId": "9272a285-a316-4115-c3cf-9e3d1990425c"
      },
      "source": [
        "# 동북서남\r\n",
        "dx = [0, -1, 0, 1]\r\n",
        "dy = [1, 0, -1, 0]\r\n",
        "\r\n",
        "# 현재위치 \r\n",
        "x,y = 2,2\r\n",
        "\r\n",
        "for i in range(4):\r\n",
        "  # 다음 위치\r\n",
        "  nx = x + dx[i]\r\n",
        "  ny = y + dy[i]\r\n",
        "  print(nx,ny)  "
      ],
      "execution_count": null,
      "outputs": [
        {
          "output_type": "stream",
          "text": [
            "2 3\n",
            "1 2\n",
            "2 1\n",
            "3 2\n"
          ],
          "name": "stdout"
        }
      ]
    },
    {
      "cell_type": "markdown",
      "metadata": {
        "id": "ImsQ-BgMdijG"
      },
      "source": [
        "## 상하좌우 \r\n",
        "\r\n",
        "여행가 인화는 N X N 크기의 정사각형 공간 위에 서 있습니다. 이 공간은 1 x 1 크기의 정사각형으로 나누어져 있습니다. 가장 왼쪽 위 좌표는(1,1)이며, 가장 오른쪽 아래 좌표는(N,N)에 해당합니다. 여행가 인화는 상,하,좌,우 방향으로 이동할수 있으며, 시작 좌표는 항상(1,1)입니다. 우리 앞에는 여행가 인화가 이동할 계획이 적힌 계획서가 놓여있습니다. \r\n",
        "\r\n",
        "- L : 왼쪽으로 한 칸 이동\r\n",
        "- R : 오른쪽으로 한 칸 이동\r\n",
        "- U : 위로 한 칸 이동 \r\n",
        "- D : 아래로 한 칸 이동"
      ]
    },
    {
      "cell_type": "code",
      "metadata": {
        "colab": {
          "base_uri": "https://localhost:8080/"
        },
        "id": "fiT6XoI0diTv",
        "outputId": "8bd02024-1b3c-44e5-d24e-400b9553ac4e"
      },
      "source": [
        "#  동 북 서 남 \r\n",
        "dx = [0, -1 , 0 , 1 ]\r\n",
        "dy = [1, 0 , -1 , 0]\r\n",
        "\r\n",
        "controler = list(input().split())\r\n",
        "print(controler)\r\n",
        "#현재 위치\r\n",
        "x,y = (1,1)\r\n",
        "for i in controler:\r\n",
        "  if i == 'L'  and x > 2 : \r\n",
        "    x = x + dx[2]\r\n",
        "    y = y + dy[2]\r\n",
        "  if i == 'R' and x < 100:\r\n",
        "    x = x + dx[0]\r\n",
        "    y = y + dy[0]\r\n",
        "  if i == 'U' and y > 1:\r\n",
        "    x = x + dx[1]\r\n",
        "    y = y + dy[1]\r\n",
        "  if i == 'D' and y < 100:\r\n",
        "    x = x + dx[3]\r\n",
        "    y = y + dy[3]\r\n",
        "print(x,y)\r\n"
      ],
      "execution_count": null,
      "outputs": [
        {
          "output_type": "stream",
          "text": [
            "R R R D D\n",
            "['R', 'R', 'R', 'D', 'D']\n",
            "3 4\n"
          ],
          "name": "stdout"
        }
      ]
    },
    {
      "cell_type": "code",
      "metadata": {
        "id": "rmw0-mBqdLm6"
      },
      "source": [
        "#  동 북 서 남 \r\n",
        "dx = [0, -1 , 0 , 1 ]\r\n",
        "dy = [1, 0 , -1 , 0]\r\n",
        "move_type = ['L', 'R', 'U', 'D']\r\n",
        "plans = list(input().split())\r\n",
        "\r\n",
        "#현재 위치\r\n",
        "x,y = (1,1)\r\n",
        "\r\n",
        "for plan in plans:\r\n",
        "  for i in range(len(move_type))\r\n",
        "    if plan == move_type[i]\r\n",
        "    x = x + dx[i]\r\n",
        "    y = y + dy[i]\r\n",
        " \r\n",
        "\r\n",
        "# 대충 이런식"
      ],
      "execution_count": null,
      "outputs": []
    },
    {
      "cell_type": "code",
      "metadata": {
        "id": "D235VKBXvrkH",
        "colab": {
          "base_uri": "https://localhost:8080/"
        },
        "outputId": "ff17e2e3-01b1-4951-8ae3-b66bbf88b65d"
      },
      "source": [
        "True1 = [1,2,3,4]\r\n",
        "controller = ['a','b','c','d']\r\n",
        "Q = input().split()\r\n",
        "for i in Q:\r\n",
        "  for j in range(len(controller)):\r\n",
        "    if i == controller[j]:\r\n",
        "      print(True1[j])"
      ],
      "execution_count": null,
      "outputs": [
        {
          "output_type": "stream",
          "text": [
            "d d a b\n",
            "4\n",
            "4\n",
            "1\n",
            "2\n"
          ],
          "name": "stdout"
        }
      ]
    },
    {
      "cell_type": "markdown",
      "metadata": {
        "id": "MroU2OgqmeJy"
      },
      "source": [
        "## 시각 3 찾기\r\n",
        "\r\n",
        "정수 N을 입력되면 00시00분00초부터 N시59분59초까지의 모든 시각 중에서 3이 하나라도 포함되는 모든 경우의 수를 구하는 프로그램을 작성하세요\r\n",
        "\r\n",
        "- 00시 00분 03초\r\n",
        "- 00시 13분 33초\r\n",
        "\r\n",
        "\r\n"
      ]
    },
    {
      "cell_type": "code",
      "metadata": {
        "colab": {
          "base_uri": "https://localhost:8080/"
        },
        "id": "HMpfUvc_ltzx",
        "outputId": "7c046d8c-f2ed-493b-dc71-8f940810b9d9"
      },
      "source": [
        "# 24 * 60 * 60 = 86400이다. \r\n",
        "# 단순히 시각을 1 씩 증가시키면서 3이 하나라도 포함되어있으면 \r\n",
        "\r\n",
        "h = int(input())\r\n",
        "count = 0\r\n",
        "\r\n",
        "for i in range(h+1):\r\n",
        "  for j in range(60):\r\n",
        "    for k in range(60):\r\n",
        "      if '3' in str(i) + str(j) + str(k):\r\n",
        "        count += 1\r\n",
        "print(count)\r\n"
      ],
      "execution_count": null,
      "outputs": [
        {
          "output_type": "stream",
          "text": [
            "3\n",
            "8325\n"
          ],
          "name": "stdout"
        }
      ]
    },
    {
      "cell_type": "markdown",
      "metadata": {
        "id": "OK3_z8NZ_ZBT"
      },
      "source": [
        "## 문자열 재정렬 \r\n",
        "\r\n",
        "알파벳 대문자와 숫자(0~9)로만 구성된 물자열이 입력으로 주어집니다. 이때 모든 알파벳을 오름차순으로 정렬하여 이어서 출력한 뒤에, 그 뒤에 모든 숫자를 더한 값을 이어서 출력합니다.\r\n",
        "- 예를들어 K1KA5CB7 이라 하면 ABCKK13을 출력합니다.\r\n",
        "\r\n"
      ]
    },
    {
      "cell_type": "code",
      "metadata": {
        "colab": {
          "base_uri": "https://localhost:8080/"
        },
        "id": "vL1Romec_XYk",
        "outputId": "54921393-e4ab-4765-82f5-382beca007cd"
      },
      "source": [
        "data = input()\r\n",
        "result = []\r\n",
        "value = 0\r\n",
        "\r\n",
        "print(data)\r\n",
        "for x in data:\r\n",
        "  if x.isalpha():\r\n",
        "    result.append(x)\r\n",
        "print(result)"
      ],
      "execution_count": 10,
      "outputs": [
        {
          "output_type": "stream",
          "text": [
            "adshjflakjsdhf18372649172364\n",
            "['a', 'd', 's', 'h', 'j', 'f', 'l', 'a', 'k', 'j', 's', 'd', 'h', 'f', '1', '8', '3', '7', '2', '6', '4', '9', '1', '7', '2', '3', '6', '4']\n",
            "['a', 'd', 's', 'h', 'j', 'f', 'l', 'a', 'k', 'j', 's', 'd', 'h', 'f']\n"
          ],
          "name": "stdout"
        }
      ]
    },
    {
      "cell_type": "code",
      "metadata": {
        "colab": {
          "base_uri": "https://localhost:8080/"
        },
        "id": "0MDITFULBAjH",
        "outputId": "d7865e5e-8c3a-43ca-cffa-c6f2bf62ac27"
      },
      "source": [
        ""
      ],
      "execution_count": 5,
      "outputs": [
        {
          "output_type": "stream",
          "text": [
            "1234151\n",
            "['1', '2', '3', '4', '1', '5', '1']\n"
          ],
          "name": "stdout"
        }
      ]
    }
  ]
}